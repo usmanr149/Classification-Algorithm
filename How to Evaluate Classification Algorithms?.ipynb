{
 "cells": [
  {
   "cell_type": "markdown",
   "metadata": {},
   "source": [
    "# Evaluation Metrics for Binary Classification\n",
    "\n",
    "Now that you know a couple of clasification algorithm, we will now discuss metrics used to evaluate the algorithm.\n",
    "\n",
    "To evaluate an algorithm we need to split our data into training and testing data set. We will train the model on a training set and evaluate on a test fit. The reason we do the splitting is to evaluate how well our data generalizes to previously unseen data.\n",
    "\n",
    "To start off lets focus on binary classification and take a look at confusion matrix:\n",
    "\n",
    "<div>\n",
    "<img src=\"images/confusion_matrix.jpeg\" width=\"500\"/>\n",
    "</div>\n",
    "Source: <a href=\"https://medium.com/datadriveninvestor/simplifying-the-confusion-matrix-aa1fa0b0fc35\">Source: Simplifying The Confusion Matrix</a>\n",
    "\n",
    "Accuracy is one of the simplest metric we can get from a confusion matrix.\n",
    "\n",
    "Accuracy is defined as the number of correct predictions (TP and TN) divided by the number of all samples.\n",
    "\n",
    "\\begin{align}\n",
    "accuracy = \\frac{TP+TN}{TP+TN+FP+FN} \n",
    "\\end{align}"
   ]
  },
  {
   "cell_type": "code",
   "execution_count": 1,
   "metadata": {},
   "outputs": [],
   "source": [
    "# suprress warnings\n",
    "\n",
    "import warnings\n",
    "warnings.filterwarnings('ignore')"
   ]
  },
  {
   "cell_type": "code",
   "execution_count": 2,
   "metadata": {},
   "outputs": [
    {
     "name": "stderr",
     "output_type": "stream",
     "text": [
      "/Users/usmanrizwan/.virtualenvs/RPA/lib/python3.7/site-packages/sklearn/externals/six.py:31: DeprecationWarning: The module is deprecated in version 0.21 and will be removed in version 0.23 since we've dropped support for Python 2.7. Please rely on the official version of six (https://pypi.org/project/six/).\n",
      "  \"(https://pypi.org/project/six/).\", DeprecationWarning)\n",
      "/Users/usmanrizwan/.virtualenvs/RPA/lib/python3.7/site-packages/sklearn/externals/joblib/__init__.py:15: DeprecationWarning: sklearn.externals.joblib is deprecated in 0.21 and will be removed in 0.23. Please import this functionality directly from joblib, which can be installed with: pip install joblib. If this warning is raised when loading pickled models, you may need to re-serialize those models with scikit-learn 0.21+.\n",
      "  warnings.warn(msg, category=DeprecationWarning)\n"
     ]
    }
   ],
   "source": [
    "import matplotlib.pyplot as plt\n",
    "import numpy as np\n",
    "import mglearn\n",
    "\n",
    "%matplotlib inline"
   ]
  },
  {
   "cell_type": "code",
   "execution_count": 3,
   "metadata": {},
   "outputs": [],
   "source": [
    "from pylab import rcParams\n",
    "rcParams['figure.figsize'] = 10, 10"
   ]
  },
  {
   "cell_type": "markdown",
   "metadata": {},
   "source": [
    "Lets build a classifier that always predicts that people are not going to be leaving their job all the time."
   ]
  },
  {
   "cell_type": "code",
   "execution_count": 33,
   "metadata": {},
   "outputs": [],
   "source": [
    "from sklearn.datasets import make_classification\n",
    "X, y = make_classification(n_samples=1000, n_classes=2, random_state=1, weights=(0.2, 0.8))"
   ]
  },
  {
   "cell_type": "code",
   "execution_count": 35,
   "metadata": {},
   "outputs": [],
   "source": [
    "from sklearn.model_selection import train_test_split\n",
    "# split the data into training and testing set\n",
    "X_train, X_test, Y_train, Y_test = train_test_split(\n",
    "    X, y, test_size=0.25, random_state=42)"
   ]
  },
  {
   "cell_type": "code",
   "execution_count": 36,
   "metadata": {},
   "outputs": [],
   "source": [
    "predict_yes = [1]*Y_test.shape[0]"
   ]
  },
  {
   "cell_type": "code",
   "execution_count": 37,
   "metadata": {},
   "outputs": [
    {
     "name": "stdout",
     "output_type": "stream",
     "text": [
      "76.0%\n"
     ]
    }
   ],
   "source": [
    "from sklearn.metrics import accuracy_score\n",
    "\n",
    "print('{0}%'.format(100*accuracy_score(Y_test, predict_yes)))"
   ]
  },
  {
   "cell_type": "markdown",
   "metadata": {},
   "source": [
    "The very simple model that we built already has an accuracy of 85.6%. Lets try a Logistic Regression model."
   ]
  },
  {
   "cell_type": "code",
   "execution_count": 38,
   "metadata": {},
   "outputs": [],
   "source": [
    "from sklearn.linear_model import LogisticRegression\n",
    "log_reg = LogisticRegression()\n",
    "log_reg.fit(X_train,Y_train)\n",
    "log_reg_predict = log_reg.predict(X_test)"
   ]
  },
  {
   "cell_type": "code",
   "execution_count": 39,
   "metadata": {},
   "outputs": [
    {
     "name": "stdout",
     "output_type": "stream",
     "text": [
      "88.0%\n"
     ]
    }
   ],
   "source": [
    "print('{0}%'.format(100*accuracy_score(Y_test, log_reg_predict)))"
   ]
  },
  {
   "cell_type": "markdown",
   "metadata": {},
   "source": [
    "According to the accuracy measure the Logistic Regression model is only slightly better than the constant predictor. It could be that Logistic Regression is not a good model so lets try a Decision Tree model."
   ]
  },
  {
   "cell_type": "code",
   "execution_count": 40,
   "metadata": {},
   "outputs": [],
   "source": [
    "from sklearn.tree import DecisionTreeClassifier\n",
    "dt = DecisionTreeClassifier(max_depth=4)\n",
    "dt.fit(X_train,Y_train)\n",
    "dt_predict = dt.predict(X_test)"
   ]
  },
  {
   "cell_type": "code",
   "execution_count": 41,
   "metadata": {},
   "outputs": [
    {
     "name": "stdout",
     "output_type": "stream",
     "text": [
      "85.2%\n"
     ]
    }
   ],
   "source": [
    "from sklearn.metrics import accuracy_score\n",
    "\n",
    "print('{0}%'.format(100*accuracy_score(Y_test, dt_predict)))"
   ]
  },
  {
   "cell_type": "markdown",
   "metadata": {},
   "source": [
    "The simple predictor that always predicts 'No' is not the worst performer. This makes it difficult to judge if the algorithms are actually performing well based on the accuracy metric.\n",
    "\n",
    "Lets take a look at the confusion matrix."
   ]
  },
  {
   "cell_type": "code",
   "execution_count": 42,
   "metadata": {},
   "outputs": [
    {
     "name": "stdout",
     "output_type": "stream",
     "text": [
      "Always Predict \"Yes\"\n",
      "[[190  60]\n",
      " [  0   0]]\n"
     ]
    }
   ],
   "source": [
    "from sklearn.metrics import confusion_matrix\n",
    "from mlxtend.plotting import plot_confusion_matrix\n",
    "\n",
    "print('Always Predict \"Yes\"')\n",
    "confusion = confusion_matrix(Y_test, predict_yes)\n",
    "# I am printing it like this so that it matches the diagram abov\n",
    "print(np.array([[confusion[1][1], confusion[0][1]], [confusion[1][0], confusion[0][0]]]))"
   ]
  },
  {
   "cell_type": "code",
   "execution_count": 43,
   "metadata": {},
   "outputs": [
    {
     "name": "stdout",
     "output_type": "stream",
     "text": [
      "Logistic Regression\n",
      "[[183   7]\n",
      " [ 23  37]]\n"
     ]
    }
   ],
   "source": [
    "print('Logistic Regression')\n",
    "confusion = confusion_matrix(log_reg_predict, Y_test)\n",
    "print(np.array([[confusion[1][1], confusion[0][1]], [confusion[1][0], confusion[0][0]]]))"
   ]
  },
  {
   "cell_type": "code",
   "execution_count": 44,
   "metadata": {},
   "outputs": [
    {
     "name": "stdout",
     "output_type": "stream",
     "text": [
      "Decision Tree\n",
      "[[171  19]\n",
      " [ 18  42]]\n"
     ]
    }
   ],
   "source": [
    "print('Decision Tree')\n",
    "confusion = confusion_matrix(dt_predict, Y_test)\n",
    "print(np.array([[confusion[1][1], confusion[0][1]], [confusion[1][0], confusion[0][0]]]))"
   ]
  },
  {
   "cell_type": "markdown",
   "metadata": {},
   "source": [
    "Lets look at other ways to summarize the information that we get from the:\n",
    "\n",
    "# Precision\n",
    "\n",
    "Precision is defined as:\n",
    "\n",
    "\\begin{align}\n",
    "precison = \\frac{TP}{TP+FP} \n",
    "\\end{align}\n",
    "\n",
    "Precision is used as a performance metric when the goal is to limit the number of false positives (Type I error). \n",
    "\n",
    "# Recall\n",
    "\n",
    "Recall is defined as:\n",
    "\n",
    "\\begin{align}\n",
    "recall = \\frac{TP}{TP+FN} \n",
    "\\end{align}\n",
    "\n",
    "Recall is used as the performance metric when it is important to avoid false negatives (Type II error).\n",
    "\n",
    "For the employee attrition data, it is important to identify all the people who will quit.\n",
    "\n",
    "Their is a trade-off between accuracy and recall. You can trivially achieve perfect recall by predicting that all samples belong to the positive class. But you will end up with many false positives so the precision will be very low as a result."
   ]
  },
  {
   "cell_type": "code",
   "execution_count": 45,
   "metadata": {},
   "outputs": [
    {
     "name": "stdout",
     "output_type": "stream",
     "text": [
      "Always Predict \"Yes\"\n",
      "0.76\n",
      "1.0\n",
      "\n",
      "Logistic Regression\n",
      "0.8883495145631068\n",
      "0.9631578947368421\n",
      "\n",
      "Decision Tree\n",
      "0.9047619047619048\n",
      "0.9\n"
     ]
    }
   ],
   "source": [
    "from sklearn.metrics import precision_score\n",
    "from sklearn.metrics import recall_score\n",
    "\n",
    "print('Always Predict \"Yes\"')\n",
    "print(precision_score(Y_test, predict_yes))\n",
    "print(recall_score(Y_test, predict_yes))\n",
    "print()\n",
    "print('Logistic Regression')\n",
    "print(precision_score(Y_test, log_reg_predict))\n",
    "print(recall_score(Y_test, log_reg_predict))\n",
    "print()\n",
    "print('Decision Tree')\n",
    "print(precision_score(Y_test, dt_predict))\n",
    "print(recall_score(Y_test, dt_predict))"
   ]
  },
  {
   "cell_type": "markdown",
   "metadata": {},
   "source": [
    "A metric that combines the information from precision and recall is called $f$-score.\n",
    "\n",
    "\\begin{align}\n",
    "F =2* \\frac{precision*recall}{precision+recall} \n",
    "\\end{align}\n",
    "\n",
    "As it takes precision and recall into account, it can be a better measure than accuracy on imbalanced binary classification datasets. "
   ]
  },
  {
   "cell_type": "code",
   "execution_count": 46,
   "metadata": {},
   "outputs": [
    {
     "name": "stdout",
     "output_type": "stream",
     "text": [
      "f1 score for yes: 0.86\n",
      "f1 score Logistic Regression: 0.92\n",
      "f1 score Decision Tree: 0.90\n"
     ]
    }
   ],
   "source": [
    "from sklearn.metrics import f1_score\n",
    "print(\"f1 score for yes: {:.2f}\".format(f1_score(Y_test, predict_yes)))\n",
    "print(\"f1 score Logistic Regression: {:.2f}\".format(f1_score(Y_test, log_reg_predict)))\n",
    "print(\"f1 score Decision Tree: {:.2f}\".format(f1_score(Y_test, dt_predict)))"
   ]
  },
  {
   "cell_type": "code",
   "execution_count": 47,
   "metadata": {},
   "outputs": [
    {
     "name": "stdout",
     "output_type": "stream",
     "text": [
      "              precision    recall  f1-score   support\n",
      "\n",
      "           0       0.00      0.00      0.00        60\n",
      "           1       0.76      1.00      0.86       190\n",
      "\n",
      "    accuracy                           0.76       250\n",
      "   macro avg       0.38      0.50      0.43       250\n",
      "weighted avg       0.58      0.76      0.66       250\n",
      "\n"
     ]
    }
   ],
   "source": [
    "from sklearn.metrics import classification_report\n",
    "print(classification_report(Y_test, predict_yes,\n",
    " target_names=[\"0\", \"1\"]))"
   ]
  },
  {
   "cell_type": "markdown",
   "metadata": {},
   "source": [
    "# Precision-Recall Curve\n",
    "\n",
    "One way to change the precision and recall of a model is to adjust the threshold. By default threshold is set at 0.5 in most machine learning libraries.\n",
    "\n",
    "In sklearn, the precision_recall_curve function returns a list of precision and recall values for all possible thresholds in sorted order."
   ]
  },
  {
   "cell_type": "code",
   "execution_count": 48,
   "metadata": {},
   "outputs": [
    {
     "data": {
      "text/plain": [
       "<matplotlib.legend.Legend at 0x12fac9a20>"
      ]
     },
     "execution_count": 48,
     "metadata": {},
     "output_type": "execute_result"
    },
    {
     "data": {
      "image/png": "[encoded data removed]",
      "text/plain": [
       "<Figure size 720x720 with 1 Axes>"
      ]
     },
     "metadata": {
      "needs_background": "light"
     },
     "output_type": "display_data"
    }
   ],
   "source": [
    "from sklearn.metrics import precision_recall_curve\n",
    "precision, recall, thresholds = precision_recall_curve(\n",
    " Y_test, log_reg.decision_function(X_test))\n",
    "# find threshold closest to zero\n",
    "close_zero = np.argmin(np.abs(thresholds))\n",
    "plt.plot(precision[close_zero], recall[close_zero], 'o', markersize=10,\n",
    " label=\"threshold zero\", fillstyle=\"none\", c='k', mew=2)\n",
    "plt.plot(precision, recall, label=\"precision recall curve\")\n",
    "plt.xlabel(\"Precision\")\n",
    "plt.ylabel(\"Recall\")\n",
    "plt.legend(loc=\"best\")"
   ]
  },
  {
   "cell_type": "markdown",
   "metadata": {},
   "source": [
    "We can use the precision-recall curve to decide what threshold to use.\n",
    "\n",
    "# ROC Curve\n",
    "\n",
    "Another way to evaluate a classification algorithm is to use an ROC (receiver operating characteristic) curve. The ROC curve shows the performance of a classification model at all thresholds. This curve plots two parameters:\n",
    "\n",
    "\\begin{align}\n",
    "False Positive Rate = \\frac{FP}{FP+TN} \n",
    "\\end{align}"
   ]
  },
  {
   "cell_type": "code",
   "execution_count": 49,
   "metadata": {},
   "outputs": [
    {
     "data": {
      "text/plain": [
       "<matplotlib.legend.Legend at 0x12fa52128>"
      ]
     },
     "execution_count": 49,
     "metadata": {},
     "output_type": "execute_result"
    },
    {
     "data": {
      "image/png": "[encoded data removed]",
      "text/plain": [
       "<Figure size 720x720 with 1 Axes>"
      ]
     },
     "metadata": {
      "needs_background": "light"
     },
     "output_type": "display_data"
    }
   ],
   "source": [
    "from sklearn.metrics import roc_curve\n",
    "fpr, tpr, thresholds = roc_curve(Y_test, log_reg.decision_function(X_test))\n",
    "plt.plot(fpr, tpr, label=\"ROC Curve\")\n",
    "plt.xlabel(\"False Positive Rate\")\n",
    "plt.ylabel(\"Recall\")\n",
    "# find threshold closest to zero\n",
    "close_zero = np.argmin(np.abs(thresholds))\n",
    "plt.plot(fpr[close_zero], tpr[close_zero], 'o', markersize=10,\n",
    " label=\"threshold zero\", fillstyle=\"none\", c='k', mew=2)\n",
    "plt.legend(loc=4)"
   ]
  },
  {
   "cell_type": "markdown",
   "metadata": {},
   "source": [
    "For the ROC curve, the ideal curve is close to the top left: you want a classifier that produces a high recall while keeping a low false positive rate. Often the information from the ROC curve is summarized using the area under the curve (commonly just referred to as the ROC-AUC)\n",
    "\n",
    "The bigger the AUC, the better the model is at distinguishing between classes. Ideal value for AUC is 1.\n",
    "\n",
    "Lets see which model (logistic regression or ROC) performs better based on AUC."
   ]
  },
  {
   "cell_type": "code",
   "execution_count": 50,
   "metadata": {},
   "outputs": [
    {
     "name": "stdout",
     "output_type": "stream",
     "text": [
      "AUC for Logistic Regression: 0.918\n",
      "AUC for Decision Tree: 0.880\n"
     ]
    }
   ],
   "source": [
    "from sklearn.metrics import roc_auc_score\n",
    "log_reg_auc = roc_auc_score(Y_test, log_reg.predict_proba(X_test)[:, 1])\n",
    "dt_auc = roc_auc_score(Y_test, dt.predict_proba(X_test)[:, 1])\n",
    "print(\"AUC for Logistic Regression: {:.3f}\".format(log_reg_auc))\n",
    "print(\"AUC for Decision Tree: {:.3f}\".format(dt_auc))"
   ]
  },
  {
   "cell_type": "markdown",
   "metadata": {},
   "source": [
    "# When to Use Precision-Recall vs. ROC Curves?\n",
    "\n",
    "Generally:\n",
    "<li> Use ROC curve when you have an unbalanced data set."
   ]
  },
  {
   "cell_type": "markdown",
   "metadata": {},
   "source": []
  }
 ],
 "metadata": {
  "kernelspec": {
   "display_name": "RPA",
   "language": "python",
   "name": "mdservice"
  },
  "language_info": {
   "codemirror_mode": {
    "name": "ipython",
    "version": 3
   },
   "file_extension": ".py",
   "mimetype": "text/x-python",
   "name": "python",
   "nbconvert_exporter": "python",
   "pygments_lexer": "ipython3",
   "version": "3.7.1"
  }
 },
 "nbformat": 4,
 "nbformat_minor": 2
}
